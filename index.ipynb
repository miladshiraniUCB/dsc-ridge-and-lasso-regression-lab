{
 "cells": [
  {
   "cell_type": "markdown",
   "metadata": {},
   "source": [
    "# Ridge and Lasso Regression - Lab"
   ]
  },
  {
   "cell_type": "markdown",
   "metadata": {},
   "source": [
    "## Introduction"
   ]
  },
  {
   "cell_type": "markdown",
   "metadata": {},
   "source": [
    "In this lab, you'll practice your knowledge of Ridge and Lasso regression!"
   ]
  },
  {
   "cell_type": "markdown",
   "metadata": {},
   "source": [
    "## Objectives"
   ]
  },
  {
   "cell_type": "markdown",
   "metadata": {},
   "source": [
    "In this lab you will: \n",
    "\n",
    "- Use Lasso and Ridge regression with scikit-learn \n",
    "- Compare and contrast Lasso, Ridge and non-regularized regression "
   ]
  },
  {
   "cell_type": "markdown",
   "metadata": {},
   "source": [
    "## Housing Prices Data"
   ]
  },
  {
   "cell_type": "markdown",
   "metadata": {},
   "source": [
    "Let's look at yet another house pricing dataset: "
   ]
  },
  {
   "cell_type": "code",
   "execution_count": 106,
   "metadata": {},
   "outputs": [],
   "source": [
    "import pandas as pd\n",
    "import numpy as np\n",
    "from sklearn.model_selection import train_test_split\n",
    "import warnings\n",
    "warnings.filterwarnings('ignore')\n",
    "\n",
    "df = pd.read_csv('Housing_Prices/train.csv')"
   ]
  },
  {
   "cell_type": "markdown",
   "metadata": {},
   "source": [
    "Look at `.info()` of the data: "
   ]
  },
  {
   "cell_type": "code",
   "execution_count": 107,
   "metadata": {},
   "outputs": [
    {
     "name": "stdout",
     "output_type": "stream",
     "text": [
      "<class 'pandas.core.frame.DataFrame'>\n",
      "RangeIndex: 1460 entries, 0 to 1459\n",
      "Data columns (total 81 columns):\n",
      " #   Column         Non-Null Count  Dtype  \n",
      "---  ------         --------------  -----  \n",
      " 0   Id             1460 non-null   int64  \n",
      " 1   MSSubClass     1460 non-null   int64  \n",
      " 2   MSZoning       1460 non-null   object \n",
      " 3   LotFrontage    1201 non-null   float64\n",
      " 4   LotArea        1460 non-null   int64  \n",
      " 5   Street         1460 non-null   object \n",
      " 6   Alley          91 non-null     object \n",
      " 7   LotShape       1460 non-null   object \n",
      " 8   LandContour    1460 non-null   object \n",
      " 9   Utilities      1460 non-null   object \n",
      " 10  LotConfig      1460 non-null   object \n",
      " 11  LandSlope      1460 non-null   object \n",
      " 12  Neighborhood   1460 non-null   object \n",
      " 13  Condition1     1460 non-null   object \n",
      " 14  Condition2     1460 non-null   object \n",
      " 15  BldgType       1460 non-null   object \n",
      " 16  HouseStyle     1460 non-null   object \n",
      " 17  OverallQual    1460 non-null   int64  \n",
      " 18  OverallCond    1460 non-null   int64  \n",
      " 19  YearBuilt      1460 non-null   int64  \n",
      " 20  YearRemodAdd   1460 non-null   int64  \n",
      " 21  RoofStyle      1460 non-null   object \n",
      " 22  RoofMatl       1460 non-null   object \n",
      " 23  Exterior1st    1460 non-null   object \n",
      " 24  Exterior2nd    1460 non-null   object \n",
      " 25  MasVnrType     1452 non-null   object \n",
      " 26  MasVnrArea     1452 non-null   float64\n",
      " 27  ExterQual      1460 non-null   object \n",
      " 28  ExterCond      1460 non-null   object \n",
      " 29  Foundation     1460 non-null   object \n",
      " 30  BsmtQual       1423 non-null   object \n",
      " 31  BsmtCond       1423 non-null   object \n",
      " 32  BsmtExposure   1422 non-null   object \n",
      " 33  BsmtFinType1   1423 non-null   object \n",
      " 34  BsmtFinSF1     1460 non-null   int64  \n",
      " 35  BsmtFinType2   1422 non-null   object \n",
      " 36  BsmtFinSF2     1460 non-null   int64  \n",
      " 37  BsmtUnfSF      1460 non-null   int64  \n",
      " 38  TotalBsmtSF    1460 non-null   int64  \n",
      " 39  Heating        1460 non-null   object \n",
      " 40  HeatingQC      1460 non-null   object \n",
      " 41  CentralAir     1460 non-null   object \n",
      " 42  Electrical     1459 non-null   object \n",
      " 43  1stFlrSF       1460 non-null   int64  \n",
      " 44  2ndFlrSF       1460 non-null   int64  \n",
      " 45  LowQualFinSF   1460 non-null   int64  \n",
      " 46  GrLivArea      1460 non-null   int64  \n",
      " 47  BsmtFullBath   1460 non-null   int64  \n",
      " 48  BsmtHalfBath   1460 non-null   int64  \n",
      " 49  FullBath       1460 non-null   int64  \n",
      " 50  HalfBath       1460 non-null   int64  \n",
      " 51  BedroomAbvGr   1460 non-null   int64  \n",
      " 52  KitchenAbvGr   1460 non-null   int64  \n",
      " 53  KitchenQual    1460 non-null   object \n",
      " 54  TotRmsAbvGrd   1460 non-null   int64  \n",
      " 55  Functional     1460 non-null   object \n",
      " 56  Fireplaces     1460 non-null   int64  \n",
      " 57  FireplaceQu    770 non-null    object \n",
      " 58  GarageType     1379 non-null   object \n",
      " 59  GarageYrBlt    1379 non-null   float64\n",
      " 60  GarageFinish   1379 non-null   object \n",
      " 61  GarageCars     1460 non-null   int64  \n",
      " 62  GarageArea     1460 non-null   int64  \n",
      " 63  GarageQual     1379 non-null   object \n",
      " 64  GarageCond     1379 non-null   object \n",
      " 65  PavedDrive     1460 non-null   object \n",
      " 66  WoodDeckSF     1460 non-null   int64  \n",
      " 67  OpenPorchSF    1460 non-null   int64  \n",
      " 68  EnclosedPorch  1460 non-null   int64  \n",
      " 69  3SsnPorch      1460 non-null   int64  \n",
      " 70  ScreenPorch    1460 non-null   int64  \n",
      " 71  PoolArea       1460 non-null   int64  \n",
      " 72  PoolQC         7 non-null      object \n",
      " 73  Fence          281 non-null    object \n",
      " 74  MiscFeature    54 non-null     object \n",
      " 75  MiscVal        1460 non-null   int64  \n",
      " 76  MoSold         1460 non-null   int64  \n",
      " 77  YrSold         1460 non-null   int64  \n",
      " 78  SaleType       1460 non-null   object \n",
      " 79  SaleCondition  1460 non-null   object \n",
      " 80  SalePrice      1460 non-null   int64  \n",
      "dtypes: float64(3), int64(35), object(43)\n",
      "memory usage: 924.0+ KB\n"
     ]
    }
   ],
   "source": [
    "# Your code here\n",
    "df.info()"
   ]
  },
  {
   "cell_type": "markdown",
   "metadata": {},
   "source": [
    "- First, split the data into `X` (predictor) and `y` (target) variables \n",
    "- Split the data into 75-25 training-test sets. Set the `random_state` to 10 \n",
    "- Remove all columns of `object` type from `X_train` and `X_test` and assign them to `X_train_cont` and `X_test_cont`, respectively "
   ]
  },
  {
   "cell_type": "code",
   "execution_count": 109,
   "metadata": {},
   "outputs": [],
   "source": [
    "# Create X and y\n",
    "y = df[\"SalePrice\"]\n",
    "X = df.drop(columns = [\"SalePrice\"], axis = 1)\n",
    "\n",
    "# Split data into training and test sets\n",
    "X_train, X_test, y_train, y_test = train_test_split(X,y, random_state = 10)\n",
    "\n",
    "# Remove \"object\"-type features from X\n",
    "cont_features = X.select_dtypes(include=['float64', \"int64\"])\n",
    "\n",
    "# Remove \"object\"-type features from X_train and X_test\n",
    "X_train_cont = X_train.select_dtypes(include=['float64', \"int64\"])\n",
    "X_test_cont = X_test.select_dtypes(include=['float64', \"int64\"])"
   ]
  },
  {
   "cell_type": "markdown",
   "metadata": {},
   "source": [
    "## Let's use this data to build a first naive linear regression model"
   ]
  },
  {
   "cell_type": "markdown",
   "metadata": {},
   "source": [
    "- Fill the missing values in data using median of the columns (use [`SimpleImputer`](https://scikit-learn.org/stable/modules/generated/sklearn.impute.SimpleImputer.html)) \n",
    "- Fit a linear regression model to this data \n",
    "- Compute the R-squared and the MSE for both the training and test sets \n"
   ]
  },
  {
   "cell_type": "code",
   "execution_count": 110,
   "metadata": {},
   "outputs": [
    {
     "name": "stdout",
     "output_type": "stream",
     "text": [
      "Train Set r2 :  0.8069714678400264\n",
      "Test  Set r2 :  0.8203264293698825\n",
      "Mean Squared Error Train:  1212415985.7084072\n",
      "Mean Squared Error Test:  1146350639.8806374\n",
      "\n",
      "\n",
      "From GitHub\n",
      "\n",
      "Training r^2: 0.8069714678400264\n",
      "Test r^2: 0.8203264293698825\n",
      "Training MSE: 1212415985.7084072\n",
      "Test MSE: 1146350639.8806374\n"
     ]
    }
   ],
   "source": [
    "from sklearn.metrics import mean_squared_error, mean_squared_log_error\n",
    "from sklearn.linear_model import LinearRegression\n",
    "from sklearn.impute import SimpleImputer\n",
    "from sklearn.metrics import r2_score\n",
    "\n",
    "# Impute missing values with median using SimpleImputer\n",
    "impute = SimpleImputer(strategy='median')\n",
    "X_train_imputed = impute.fit_transform(X_train_cont)\n",
    "X_test_imputed = impute.transform(X_test_cont)\n",
    "\n",
    "# Fit the model and print R2 and MSE for training and test sets\n",
    "linreg = LinearRegression()\n",
    "linreg.fit(X_train_imputed, y_train)\n",
    "\n",
    "# Print R2 and MSE for training and test sets\n",
    "print(\"Train Set r2 : \",r2_score(y_train, linreg.predict(X_train_imputed)))\n",
    "print(\"Test  Set r2 : \",r2_score(y_test, linreg.predict(X_test_imputed)))\n",
    "print(\"Mean Squared Error Train: \",\n",
    "      mean_squared_error(y_train, linreg.predict(X_train_imputed), squared=True))\n",
    "print(\"Mean Squared Error Test: \",\n",
    "      mean_squared_error(y_test, linreg.predict(X_test_imputed), squared=True))\n",
    "\n",
    "### From GitHub\n",
    "print()\n",
    "print()\n",
    "print(\"From GitHub\")\n",
    "print()\n",
    "print('Training r^2:', linreg.score(X_train_imputed, y_train))\n",
    "print('Test r^2:', linreg.score(X_test_imputed, y_test))\n",
    "print('Training MSE:', mean_squared_error(y_train, linreg.predict(X_train_imputed)))\n",
    "print('Test MSE:', mean_squared_error(y_test, linreg.predict(X_test_imputed)))\n"
   ]
  },
  {
   "cell_type": "markdown",
   "metadata": {},
   "source": [
    "## Normalize your data"
   ]
  },
  {
   "cell_type": "markdown",
   "metadata": {},
   "source": [
    "- Normalize your data using a `StandardScalar`  \n",
    "- Fit a linear regression model to this data \n",
    "- Compute the R-squared and the MSE for both the training and test sets \n"
   ]
  },
  {
   "cell_type": "code",
   "execution_count": 112,
   "metadata": {},
   "outputs": [
    {
     "name": "stdout",
     "output_type": "stream",
     "text": [
      "Scaled Train Set r2:  0.8069732144369715\n",
      "Scaled Test Set r2 :  0.8203389046729641\n",
      "Scaled Train Set Mean Squared Error:  1212405015.2988358\n",
      "Scaled Test Set Mean Squared Error:  1146271045.1376815\n",
      "\n",
      "From GitHub\n",
      "Training r^2: 0.8069732144369715\n",
      "Test r^2: 0.8203389046729641\n",
      "Training MSE: 1212405015.2988358\n",
      "Test MSE: 1146271045.1376815\n"
     ]
    }
   ],
   "source": [
    "from sklearn.preprocessing import StandardScaler\n",
    "\n",
    "# Scale the train and test data\n",
    "ss = StandardScaler()\n",
    "X_train_imputed_scaled = ss.fit_transform(X_train_imputed)\n",
    "X_test_imputed_scaled = ss.transform(X_test_imputed)\n",
    "\n",
    "# Fit the model\n",
    "linreg_norm = LinearRegression()\n",
    "linreg_norm.fit(X_train_imputed_scaled, y_train)\n",
    "\n",
    "y_train_predict = linreg_norm.predict(X_train_imputed_scaled)\n",
    "y_test_predict  = linreg_norm.predict(X_test_imputed_scaled)\n",
    "\n",
    "\n",
    "# Print R2 and MSE for training and test sets\n",
    "print(\"Scaled Train Set r2: \" , r2_score(y_train, y_train_predict))\n",
    "print(\"Scaled Test Set r2 : \" , r2_score(y_test, y_test_predict))\n",
    "print(\"Scaled Train Set Mean Squared Error: \", \n",
    "      mean_squared_error(y_train, y_train_predict, squared = True))\n",
    "print(\"Scaled Test Set Mean Squared Error: \", \n",
    "      mean_squared_error(y_test, y_test_predict, squared = True))\n",
    "\n",
    "## From GitHub\n",
    "print()\n",
    "print(\"From GitHub\")\n",
    "print('Training r^2:', linreg_norm.score(X_train_imputed_scaled, y_train))\n",
    "print('Test r^2:', linreg_norm.score(X_test_imputed_scaled, y_test))\n",
    "print('Training MSE:', mean_squared_error(y_train, linreg_norm.predict(X_train_imputed_scaled)))\n",
    "print('Test MSE:', mean_squared_error(y_test, linreg_norm.predict(X_test_imputed_scaled)))"
   ]
  },
  {
   "cell_type": "markdown",
   "metadata": {},
   "source": [
    "## Include categorical variables"
   ]
  },
  {
   "cell_type": "markdown",
   "metadata": {},
   "source": [
    "The above models didn't include categorical variables so far, let's include them! \n",
    "\n",
    "\n",
    "- Include all columns of `object` type from `X_train` and `X_test` and assign them to `X_train_cat` and `X_test_cat`, respectively \n",
    "- Fill missing values in all these columns with the string `'missing'` "
   ]
  },
  {
   "cell_type": "code",
   "execution_count": 113,
   "metadata": {},
   "outputs": [],
   "source": [
    "# Create X_cat which contains only the categorical variables\n",
    "features_cat = X.select_dtypes(include=['object'])\n",
    "\n",
    "X_train_cat = X_train.select_dtypes(include=['object'])\n",
    "X_test_cat  = X_test.select_dtypes(include=['object'])\n",
    "\n",
    "# Fill missing values with the string 'missing'\n",
    "X_train_cat.fillna(value = \"missing\", inplace = True)\n",
    "X_test_cat.fillna(value  = \"missing\", inplace = True)\n"
   ]
  },
  {
   "cell_type": "markdown",
   "metadata": {},
   "source": [
    "- One-hot encode all these categorical columns using `OneHotEncoder` \n",
    "- Transform the training and test DataFrames (`X_train_cat`) and (`X_test_cat`) \n",
    "- Run the given code to convert these transformed features into DataFrames "
   ]
  },
  {
   "cell_type": "code",
   "execution_count": 114,
   "metadata": {},
   "outputs": [],
   "source": [
    "from sklearn.preprocessing import OneHotEncoder\n",
    "\n",
    "# OneHotEncode categorical variables\n",
    "ohe = OneHotEncoder(handle_unknown='ignore')\n",
    "\n",
    "# Transform training and test sets\n",
    "X_train_ohe = ohe.fit_transform(X_train_cat)\n",
    "X_test_ohe = ohe.transform(X_test_cat)\n",
    "\n",
    "# Convert these columns into a DataFrame\n",
    "columns = ohe.get_feature_names(input_features=X_train_cat.columns)\n",
    "cat_train_df = pd.DataFrame(X_train_ohe.todense(), columns=columns)\n",
    "cat_test_df = pd.DataFrame(X_test_ohe.todense(), columns=columns)\n"
   ]
  },
  {
   "cell_type": "markdown",
   "metadata": {},
   "source": [
    "- Combine `X_train_imputed_scaled` and `cat_train_df` into a single DataFrame  \n",
    "- Similarly, combine `X_test_imputed_scaled` and `cat_test_df` into a single DataFrame "
   ]
  },
  {
   "cell_type": "code",
   "execution_count": 115,
   "metadata": {},
   "outputs": [],
   "source": [
    "# Your code here\n",
    "\n",
    "## My Work\n",
    "X_train_all = pd.concat([pd.DataFrame(X_train_ohe.todense()), \n",
    "                         pd.DataFrame(X_train_imputed_scaled)], axis = 1)\n",
    "X_test_all = pd.concat([pd.DataFrame(X_test_ohe.todense()), \n",
    "                         pd.DataFrame(X_test_imputed_scaled)], axis = 1)\n",
    "\n"
   ]
  },
  {
   "cell_type": "markdown",
   "metadata": {},
   "source": [
    "Now build a linear regression model using all the features (`X_train_all`). Also, print the R-squared and the MSE for both the training and test sets. "
   ]
  },
  {
   "cell_type": "code",
   "execution_count": 117,
   "metadata": {},
   "outputs": [
    {
     "name": "stdout",
     "output_type": "stream",
     "text": [
      "Train Set r2:  0.9316575480222399\n",
      "Test Set r2 :  -0.00020727560854050253\n",
      "Train MSE   :  402561357.9616438\n",
      "Train MSE   :  3.9077733493671256e+30\n",
      "\n",
      "From GitHub\n",
      "Training r^2: 0.9359082782249372\n",
      "Test r^2: -6.12485889105547e+20\n",
      "Training MSE: 402561357.9616438\n",
      "Test MSE: 3.9077733493671256e+30\n"
     ]
    }
   ],
   "source": [
    "# Your code here\n",
    "from sklearn.linear_model import LinearRegression\n",
    "\n",
    "linear_model = LinearRegression()\n",
    "linear_model.fit(X_train_all, y_train)\n",
    "\n",
    "y_train_predict_lm = linear_model.predict(X_train_all)\n",
    "y_test_predict_lm  = linear_model.predict(X_test_all)\n",
    "\n",
    "print(\"Train Set r2: \", r2_score(y_train_predict_lm, y_train))\n",
    "print(\"Test Set r2 : \", r2_score(y_test_predict_lm , y_test))\n",
    "print(\"Train MSE   : \", mean_squared_error(y_train, y_train_predict_lm, \n",
    "                                           squared = True))\n",
    "print(\"Train MSE   : \", mean_squared_error(y_test, y_test_predict_lm, \n",
    "                                           squared = True))\n",
    "\n",
    "## From GitHub\n",
    "print()\n",
    "print(\"From GitHub\")\n",
    "print('Training r^2:', linear_model.score(X_train_all, y_train))\n",
    "print('Test r^2:', linear_model.score(X_test_all, y_test))\n",
    "print('Training MSE:', mean_squared_error(y_train, linear_model.predict(X_train_all)))\n",
    "print('Test MSE:', mean_squared_error(y_test, linear_model.predict(X_test_all)))"
   ]
  },
  {
   "cell_type": "markdown",
   "metadata": {},
   "source": [
    "Notice the severe overfitting above; our training R-squared is very high, but the test R-squared is negative! Similarly, the scale of the test MSE is orders of magnitude higher than that of the training MSE."
   ]
  },
  {
   "cell_type": "markdown",
   "metadata": {},
   "source": [
    "## Ridge and Lasso regression"
   ]
  },
  {
   "cell_type": "markdown",
   "metadata": {},
   "source": [
    "Use all the data (normalized features and dummy categorical variables, `X_train_all`) to build two models - one each for Lasso and Ridge regression. Each time, look at R-squared and MSE. "
   ]
  },
  {
   "cell_type": "markdown",
   "metadata": {},
   "source": [
    "## Lasso"
   ]
  },
  {
   "cell_type": "markdown",
   "metadata": {},
   "source": [
    "#### With default parameter (alpha = 1)"
   ]
  },
  {
   "cell_type": "code",
   "execution_count": 119,
   "metadata": {},
   "outputs": [
    {
     "name": "stdout",
     "output_type": "stream",
     "text": [
      "Train Set r2:  0.9315029672753936\n",
      "Test Set r2 :  0.8835382251539015\n",
      "Train MSE   :  402187309.3248636\n",
      "Train MSE   :  709924619.1651285\n",
      "\n",
      "From GitHub\n",
      "Training r^2: 0.9359678304414744\n",
      "Test r^2: 0.8887297771152233\n",
      "Training MSE: 402187309.3248636\n",
      "Test MSE: 709924619.1651285\n"
     ]
    }
   ],
   "source": [
    "# Your code here\n",
    "from sklearn.linear_model import Ridge, Lasso, LinearRegression\n",
    "\n",
    "lasso = Lasso(alpha = 1)\n",
    "lasso.fit(X_train_all, y_train)\n",
    "\n",
    "y_train_lasso = lasso.predict(X_train_all)\n",
    "y_test_lasso  = lasso.predict(X_test_all)\n",
    "\n",
    "print(\"Train Set r2: \", r2_score(y_train_lasso, y_train))\n",
    "print(\"Test Set r2 : \", r2_score(y_test_lasso , y_test))\n",
    "print(\"Train MSE   : \", mean_squared_error(y_train, y_train_lasso, \n",
    "                                           squared = True))\n",
    "print(\"Train MSE   : \", mean_squared_error(y_test, y_test_lasso, \n",
    "                                           squared = True))\n",
    "\n",
    "\n",
    "\n",
    "#### FRom GitHub\n",
    "print()\n",
    "print(\"From GitHub\")\n",
    "lasso = Lasso() # Lasso is also known as the L1 norm \n",
    "lasso.fit(X_train_all, y_train)\n",
    "\n",
    "print('Training r^2:', lasso.score(X_train_all, y_train))\n",
    "print('Test r^2:', lasso.score(X_test_all, y_test))\n",
    "print('Training MSE:', mean_squared_error(y_train, lasso.predict(X_train_all)))\n",
    "print('Test MSE:', mean_squared_error(y_test, lasso.predict(X_test_all)))"
   ]
  },
  {
   "cell_type": "markdown",
   "metadata": {},
   "source": [
    "#### With a higher regularization parameter (alpha = 10)"
   ]
  },
  {
   "cell_type": "code",
   "execution_count": 120,
   "metadata": {},
   "outputs": [
    {
     "name": "stdout",
     "output_type": "stream",
     "text": [
      "Train Set r2:  0.9291685420643658\n",
      "Test Set r2 :  0.8909554463885028\n",
      "Train MSE   :  412143669.00169474\n",
      "Train MSE   :  659301974.1202035\n",
      "\n",
      "From GitHub\n",
      "Training r^2: 0.9343826801987114\n",
      "Test r^2: 0.8966641307706718\n",
      "Training MSE: 412143669.00169474\n",
      "Test MSE: 659301974.1202035\n"
     ]
    }
   ],
   "source": [
    "# Your code here\n",
    "from sklearn.linear_model import Ridge, Lasso, LinearRegression\n",
    "from sklearn.metrics import r2_score\n",
    "\n",
    "lasso_10 = Lasso(alpha = 10)\n",
    "lasso_10.fit(X_train_all, y_train)\n",
    "\n",
    "y_train_lasso_10 = lasso_10.predict(X_train_all)\n",
    "y_test_lasso_10  = lasso_10.predict(X_test_all)\n",
    "\n",
    "print(\"Train Set r2: \", r2_score(y_train_lasso_10, y_train))\n",
    "print(\"Test Set r2 : \", r2_score(y_test_lasso_10, y_test))\n",
    "print(\"Train MSE   : \", mean_squared_error(y_train, y_train_lasso_10, \n",
    "                                           squared = True))\n",
    "print(\"Train MSE   : \", mean_squared_error(y_test, y_test_lasso_10, \n",
    "                                           squared = True))\n",
    "\n",
    "\n",
    "\n",
    "#### FRom GitHub\n",
    "print()\n",
    "print(\"From GitHub\")\n",
    "lasso = Lasso() # Lasso is also known as the L1 norm \n",
    "lasso.fit(X_train_all, y_train)\n",
    "\n",
    "print('Training r^2:', lasso_10.score(X_train_all, y_train))\n",
    "print('Test r^2:', lasso_10.score(X_test_all, y_test))\n",
    "print('Training MSE:', mean_squared_error(y_train, lasso_10.predict(X_train_all)))\n",
    "print('Test MSE:', mean_squared_error(y_test, lasso_10.predict(X_test_all)))\n",
    "\n",
    "\n"
   ]
  },
  {
   "cell_type": "markdown",
   "metadata": {},
   "source": [
    "## Ridge"
   ]
  },
  {
   "cell_type": "markdown",
   "metadata": {},
   "source": [
    "#### With default parameter (alpha = 1)"
   ]
  },
  {
   "cell_type": "code",
   "execution_count": 128,
   "metadata": {},
   "outputs": [
    {
     "name": "stdout",
     "output_type": "stream",
     "text": [
      "Train r2  :  0.9231940244796031\n",
      "Test r2   :  0.8842330485444209\n",
      "Train MSE :  482419834.39879984\n",
      "Test MSE  :  738614579.8334165\n",
      "\n",
      "From GitHub\n",
      "Training r^2: 0.9231940244796031\n",
      "Test r^2: 0.8842330485444209\n",
      "Training MSE: 482419834.39879984\n",
      "Test MSE: 738614579.8334165\n"
     ]
    }
   ],
   "source": [
    "# Your code here\n",
    "from sklearn.linear_model import Ridge\n",
    "from sklearn.metrics import r2_score\n",
    "from sklearn.metrics import mean_squared_error, mean_squared_log_error\n",
    "\n",
    "ridge = Ridge(alpha = 1)\n",
    "ridge.fit(X_train_all, y_train)\n",
    "y_train_ridge = ridge.predict(X_train_all)\n",
    "y_test_ridge = ridge.predict(X_test_all)\n",
    "\n",
    "print(\"Train r2  : \", r2_score(y_train, y_train_ridge))\n",
    "print(\"Test r2   : \", r2_score(y_test, y_test_ridge))\n",
    "print(\"Train MSE : \", mean_squared_error(y_train,y_train_ridge, squared = True))\n",
    "print(\"Test MSE  : \", mean_squared_error(y_test,y_test_ridge, squared = True))\n",
    "\n",
    "### From GitHub\n",
    "\n",
    "print()\n",
    "print(\"From GitHub\")\n",
    "print('Training r^2:', ridge.score(X_train_all, y_train))\n",
    "print('Test r^2:', ridge.score(X_test_all, y_test))\n",
    "print('Training MSE:', mean_squared_error(y_train, ridge.predict(X_train_all)))\n",
    "print('Test MSE:', mean_squared_error(y_test, ridge.predict(X_test_all)))\n"
   ]
  },
  {
   "cell_type": "markdown",
   "metadata": {},
   "source": [
    "#### With default parameter (alpha = 10)"
   ]
  },
  {
   "cell_type": "code",
   "execution_count": 133,
   "metadata": {},
   "outputs": [
    {
     "name": "stdout",
     "output_type": "stream",
     "text": [
      "Train r2  :  0.8990002650425939\n",
      "Test r2   :  0.8834542222982165\n",
      "Train MSE :  634381310.5991354\n",
      "Test MSE  :  743583635.4522319\n",
      "\n",
      "From GitHub\n",
      "Training r^2: 0.8990002650425939\n",
      "Test r^2: 0.8834542222982165\n",
      "Training MSE: 634381310.5991354\n",
      "Test MSE: 743583635.4522319\n"
     ]
    }
   ],
   "source": [
    "# Your code here\n",
    "from sklearn.linear_model import Ridge\n",
    "from sklearn.metrics import r2_score, mean_squared_error\n",
    "\n",
    "ridge_10 = Ridge(alpha = 10)\n",
    "ridge_10.fit(X_train_all,y_train)\n",
    "y_train_ridge_10 = ridge_10.predict(X_train_all)\n",
    "y_test_ridge_10 = ridge_10.predict(X_test_all)\n",
    "\n",
    "\n",
    "print(\"Train r2  : \", r2_score(y_train, y_train_ridge_10))\n",
    "print(\"Test r2   : \", r2_score(y_test, y_test_ridge_10))\n",
    "print(\"Train MSE : \", mean_squared_error(y_train,y_train_ridge_10\n",
    "                                         , squared = True))\n",
    "print(\"Test MSE  : \", mean_squared_error(y_test,y_test_ridge_10\n",
    "                                         , squared = True))\n",
    "\n",
    "### From GitHub\n",
    "\n",
    "print()\n",
    "print(\"From GitHub\")\n",
    "print('Training r^2:', ridge_10.score(X_train_all, y_train))\n",
    "print('Test r^2:', ridge_10.score(X_test_all, y_test))\n",
    "print('Training MSE:', mean_squared_error(y_train, ridge_10.predict(X_train_all)))\n",
    "print('Test MSE:', mean_squared_error(y_test, ridge_10.predict(X_test_all)))\n",
    "\n"
   ]
  },
  {
   "cell_type": "markdown",
   "metadata": {},
   "source": [
    "## Compare the metrics    \n",
    "\n",
    "Write your conclusions here: \n",
    "_________________________________\n"
   ]
  },
  {
   "cell_type": "markdown",
   "metadata": {},
   "source": [
    "## Compare number of parameter estimates that are (very close to) 0 for Ridge and Lasso\n",
    "\n",
    "Use 10**(-10) as an estimate that is very close to 0. "
   ]
  },
  {
   "cell_type": "code",
   "execution_count": 136,
   "metadata": {},
   "outputs": [
    {
     "name": "stdout",
     "output_type": "stream",
     "text": [
      "Ridge, alpha = 1\n",
      "296\n",
      "0.0\n",
      "\n",
      "Ridge, alpha = 10\n",
      "296\n",
      "0.0\n"
     ]
    }
   ],
   "source": [
    "# Number of Ridge params almost zero\n",
    "print(\"Ridge, alpha = 1\")\n",
    "print(len(ridge.coef_))\n",
    "print(sum(abs(ridge.coef_) < 10**(-10))/ len(ridge.coef_))\n",
    "\n",
    "print()\n",
    "print(\"Ridge, alpha = 10\")\n",
    "print(len(ridge_10.coef_))\n",
    "print(sum(abs(ridge_10.coef_) < 10**(-10))/ len(ridge_10.coef_))"
   ]
  },
  {
   "cell_type": "code",
   "execution_count": null,
   "metadata": {},
   "outputs": [],
   "source": [
    "# Number of Lasso params almost zero"
   ]
  },
  {
   "cell_type": "code",
   "execution_count": 137,
   "metadata": {},
   "outputs": [
    {
     "name": "stdout",
     "output_type": "stream",
     "text": [
      "Lasso, alpha = 1\n",
      "296\n",
      "0.12837837837837837\n",
      "\n",
      "Lasso, alpha = 10\n",
      "296\n",
      "0.26013513513513514\n"
     ]
    }
   ],
   "source": [
    "print(\"Lasso, alpha = 1\")\n",
    "print(len(lasso.coef_))\n",
    "print(sum(abs(lasso.coef_) < 10**(-10))/ len(lasso.coef_))\n",
    "\n",
    "print()\n",
    "print(\"Lasso, alpha = 10\")\n",
    "print(len(lasso_10.coef_))\n",
    "print(sum(abs(lasso_10.coef_) < 10**(-10))/ len(lasso_10.coef_))"
   ]
  },
  {
   "cell_type": "markdown",
   "metadata": {},
   "source": [
    "Lasso was very effective to essentially perform variable selection and remove about 25% of the variables from your model!"
   ]
  },
  {
   "cell_type": "markdown",
   "metadata": {},
   "source": [
    "## Put it all together"
   ]
  },
  {
   "cell_type": "markdown",
   "metadata": {},
   "source": [
    "To bring all of our work together lets take a moment to put all of our preprocessing steps for categorical and continuous variables into one function. This function should take in our features as a dataframe `X` and target as a Series `y` and return a training and test DataFrames with all of our preprocessed features along with training and test targets. "
   ]
  },
  {
   "cell_type": "code",
   "execution_count": 190,
   "metadata": {},
   "outputs": [],
   "source": [
    "def preprocess(X, y):\n",
    "    '''Takes in features and target and implements all preprocessing steps \n",
    "    for categorical and continuous features returning train and test \n",
    "    DataFrames with targets'''\n",
    "    \n",
    "    from sklearn.metrics import mean_squared_error, mean_squared_log_error\n",
    "    from sklearn.linear_model import LinearRegression, Ridge, Lasso\n",
    "    from sklearn.impute import SimpleImputer\n",
    "    from sklearn.metrics import r2_score, mean_squared_error\n",
    "    from sklearn.model_selection import train_test_split\n",
    "    from sklearn.preprocessing import OneHotEncoder, StandardScaler\n",
    "\n",
    "\n",
    "    \n",
    "    \n",
    "    \n",
    "    # Train-test split (75-25), set seed to 10\n",
    "    X_train, X_test, y_train, y_test = train_test_split(X, y, random_state=10)\n",
    "    \n",
    "    # Remove \"object\"-type features and SalesPrice from X\n",
    "    X_train_cont = X_train.select_dtypes(include=[\"float64\", \"int64\"])\n",
    "    X_test_cont = X_test.select_dtypes(include=[\"float64\", \"int64\"])\n",
    "\n",
    "    # Impute missing values with median using SimpleImputer\n",
    "    impute = SimpleImputer(strategy='median')\n",
    "\n",
    "    X_train_imputed = impute.fit_transform(X_train_cont)\n",
    "    X_test_imputed = impute.transform(X_test_cont)\n",
    "\n",
    "    # Scale the train and test data\n",
    "    ss = StandardScaler()\n",
    "\n",
    "    X_train_imputed_scaled = ss.fit_transform(X_train_imputed)\n",
    "    X_test_imputed_scaled = ss.transform(X_test_imputed)\n",
    "\n",
    "    # Create X_cat which contains only the categorical variables\n",
    "    X_train_cat = X_train.select_dtypes(include=[\"object\"])\n",
    "    X_test_cat = X_test.select_dtypes(include=[\"object\"])\n",
    "\n",
    "    # Fill nans with a value indicating that that it is missing\n",
    "    X_train_cat.fillna(value='missing', inplace=True)\n",
    "    X_test_cat.fillna(value='missing', inplace=True)\n",
    "\n",
    "\n",
    "    # OneHotEncode Categorical variables\n",
    "    ohe = OneHotEncoder(handle_unknown='ignore')\n",
    "\n",
    "    X_train_ohe = ohe.fit_transform(X_train_cat)\n",
    "    X_test_ohe = ohe.transform(X_test_cat)\n",
    "\n",
    "    \n",
    "    # Combine categorical and continuous features into the final dataframe\n",
    "    X_train_all = pd.concat([pd.DataFrame(X_train_ohe.todense()), \n",
    "                         pd.DataFrame(X_train_imputed_scaled)], axis = 1)\n",
    "    \n",
    "    X_test_all = pd.concat([pd.DataFrame(X_test_ohe.todense()), \n",
    "                         pd.DataFrame(X_test_imputed_scaled)], axis = 1)\n",
    "    \n",
    "    return X_train_all, X_test_all, y_train, y_test"
   ]
  },
  {
   "cell_type": "markdown",
   "metadata": {},
   "source": [
    "### Graph the training and test error to find optimal alpha values\n",
    "\n",
    "Earlier we tested two values of alpha to see how it effected our MSE and the value of our coefficients. We could continue to guess values of alpha for our Ridge or Lasso regression one at a time to see which values minimize our loss, or we can test a range of values and pick the alpha which minimizes our MSE. Here is an example of how we would do this:  "
   ]
  },
  {
   "cell_type": "code",
   "execution_count": 194,
   "metadata": {},
   "outputs": [],
   "source": [
    "X_train_all, X_test_all, y_train, y_test = preprocess(X, y)\n",
    "\n",
    "train_mse = []\n",
    "test_mse = []\n",
    "alphas = []\n",
    "\n",
    "for alpha in np.linspace(0, 200, num=50):\n",
    "    lasso = Lasso(alpha=alpha)\n",
    "    lasso.fit(X_train_all, y_train)\n",
    "    \n",
    "    train_preds = lasso.predict(X_train_all)\n",
    "    train_mse.append(mean_squared_error(y_train, train_preds))\n",
    "    \n",
    "    test_preds = lasso.predict(X_test_all)\n",
    "    test_mse.append(mean_squared_error(y_test, test_preds))\n",
    "    \n",
    "    alphas.append(alpha)\n",
    "  "
   ]
  },
  {
   "cell_type": "code",
   "execution_count": 195,
   "metadata": {},
   "outputs": [
    {
     "name": "stdout",
     "output_type": "stream",
     "text": [
      "X_train_all.shape:  (1095, 296)\n",
      "y_train.shape : (1095,)\n",
      "train_preds.shape: (1095,)\n",
      "\n",
      "X_test_all.shape:  (365, 296)\n",
      "y_test.shape : (365,)\n",
      "test_preds.shape: (365,)\n"
     ]
    }
   ],
   "source": [
    "print(\"X_train_all.shape: \", X_train_all.shape)\n",
    "print(\"y_train.shape :\", y_train.shape)\n",
    "print(\"train_preds.shape:\", train_preds.shape)\n",
    "print()\n",
    "print(\"X_test_all.shape: \", X_test_all.shape)\n",
    "print(\"y_test.shape :\", y_test.shape)\n",
    "print(\"test_preds.shape:\", test_preds.shape)"
   ]
  },
  {
   "cell_type": "code",
   "execution_count": 196,
   "metadata": {},
   "outputs": [
    {
     "name": "stdout",
     "output_type": "stream",
     "text": [
      "Optimal Alpha Value: 40\n"
     ]
    },
    {
     "data": {
      "image/png": "[encoded data removed]",
      "text/plain": [
       "<Figure size 432x288 with 1 Axes>"
      ]
     },
     "metadata": {
      "needs_background": "light"
     },
     "output_type": "display_data"
    }
   ],
   "source": [
    "import matplotlib.pyplot as plt\n",
    "%matplotlib inline\n",
    "\n",
    "fig, ax = plt.subplots()\n",
    "ax.plot(alphas, train_mse, label='Train')\n",
    "ax.plot(alphas, test_mse, label='Test')\n",
    "ax.set_xlabel('Alpha')\n",
    "ax.set_ylabel('MSE')\n",
    "\n",
    "# np.argmin() returns the index of the minimum value in a list\n",
    "optimal_alpha = alphas[np.argmin(test_mse)]\n",
    "\n",
    "# Add a vertical line where the test MSE is minimized\n",
    "ax.axvline(optimal_alpha, color='black', linestyle='--')\n",
    "ax.legend();\n",
    "\n",
    "print(f'Optimal Alpha Value: {int(optimal_alpha)}')"
   ]
  },
  {
   "cell_type": "markdown",
   "metadata": {},
   "source": [
    "Take a look at this graph of our training and test MSE against alpha. Try to explain to yourself why the shapes of the training and test curves are this way. Make sure to think about what alpha represents and how it relates to overfitting vs underfitting."
   ]
  },
  {
   "cell_type": "markdown",
   "metadata": {},
   "source": [
    "## Summary\n",
    "\n",
    "Well done! You now know how to build Lasso and Ridge regression models, use them for feature selection and find an optimal value for $\\text{alpha}$. "
   ]
  },
  {
   "cell_type": "code",
   "execution_count": null,
   "metadata": {},
   "outputs": [],
   "source": []
  }
 ],
 "metadata": {
  "kernelspec": {
   "display_name": "Python 3",
   "language": "python",
   "name": "python3"
  },
  "language_info": {
   "codemirror_mode": {
    "name": "ipython",
    "version": 3
   },
   "file_extension": ".py",
   "mimetype": "text/x-python",
   "name": "python",
   "nbconvert_exporter": "python",
   "pygments_lexer": "ipython3",
   "version": "3.8.5"
  },
  "latex_envs": {
   "LaTeX_envs_menu_present": true,
   "autoclose": false,
   "autocomplete": true,
   "bibliofile": "biblio.bib",
   "cite_by": "apalike",
   "current_citInitial": 1,
   "eqLabelWithNumbers": true,
   "eqNumInitial": 1,
   "hotkeys": {
    "equation": "Ctrl-E",
    "itemize": "Ctrl-I"
   },
   "labels_anchors": false,
   "latex_user_defs": false,
   "report_style_numbering": false,
   "user_envs_cfg": false
  },
  "toc": {
   "base_numbering": 1,
   "nav_menu": {},
   "number_sections": true,
   "sideBar": true,
   "skip_h1_title": false,
   "title_cell": "Table of Contents",
   "title_sidebar": "Contents",
   "toc_cell": false,
   "toc_position": {},
   "toc_section_display": true,
   "toc_window_display": false
  },
  "varInspector": {
   "cols": {
    "lenName": 16,
    "lenType": 16,
    "lenVar": 40
   },
   "kernels_config": {
    "python": {
     "delete_cmd_postfix": "",
     "delete_cmd_prefix": "del ",
     "library": "var_list.py",
     "varRefreshCmd": "print(var_dic_list())"
    },
    "r": {
     "delete_cmd_postfix": ") ",
     "delete_cmd_prefix": "rm(",
     "library": "var_list.r",
     "varRefreshCmd": "cat(var_dic_list()) "
    }
   },
   "types_to_exclude": [
    "module",
    "function",
    "builtin_function_or_method",
    "instance",
    "_Feature"
   ],
   "window_display": false
  }
 },
 "nbformat": 4,
 "nbformat_minor": 2
}
